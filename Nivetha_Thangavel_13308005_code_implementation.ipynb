{
 "cells": [
  {
   "cell_type": "markdown",
   "id": "a3573a47-3689-4668-b62f-5c8451b2b4e9",
   "metadata": {
    "tags": []
   },
   "source": [
    "# 0. Install and Import Dependencies"
   ]
  },
  {
   "cell_type": "code",
   "execution_count": null,
   "id": "ddfbccbe-41ae-4c23-98b1-a13868e2b499",
   "metadata": {
    "scrolled": true,
    "tags": []
   },
   "outputs": [],
   "source": [
    "!pip list"
   ]
  },
  {
   "cell_type": "code",
   "execution_count": null,
   "id": "02f907ea-f669-46c7-adcf-7f257e663448",
   "metadata": {
    "tags": []
   },
   "outputs": [],
   "source": [
    "!pip install opencv-python matplotlib imageio gdown tensorflow"
   ]
  },
  {
   "cell_type": "code",
   "execution_count": null,
   "id": "10448ba5",
   "metadata": {},
   "outputs": [],
   "source": [
    "#Dataset analyse by ml\n",
    "# The dataset consists of up to 1000 utterances of 500 different words, spoken by hundreds of different speakers.\n",
    "# All videos are 29 frames (1.16 seconds) in length, and the word occurs in the middle of the video.\n",
    "# The word duration is given in the metadata, from which can determine the start and end frames.\n",
    "# Dataset Visualization link : https://www.robots.ox.ac.uk/~vgg/data/lip_reading/visualisation.htm"
   ]
  },
  {
   "cell_type": "code",
   "execution_count": null,
   "id": "ee6bf8fb",
   "metadata": {},
   "outputs": [],
   "source": [
    "# Type of Data\n",
    "# Video Type MPG / MP4 format\n",
    "\n",
    "#CATEGORY - The data is categorized into pre-training, training, validation, and test sets.\n",
    "#Each covering different time frames and providing a robust foundation for the project"
   ]
  },
  {
   "cell_type": "code",
   "execution_count": 1,
   "id": "b24af50c-20b8-409d-ad78-30a933fdd669",
   "metadata": {
    "tags": []
   },
   "outputs": [],
   "source": [
    "import os\n",
    "import cv2\n",
    "import tensorflow as tf\n",
    "import numpy as np\n",
    "from typing import List\n",
    "from matplotlib import pyplot as plt\n",
    "import imageio"
   ]
  },
  {
   "cell_type": "code",
   "execution_count": 2,
   "id": "1e3db0b0-e559-4ad6-91fd-e7414b7d75e6",
   "metadata": {},
   "outputs": [
    {
     "data": {
      "text/plain": [
       "[]"
      ]
     },
     "execution_count": 2,
     "metadata": {},
     "output_type": "execute_result"
    }
   ],
   "source": [
    "tf.config.list_physical_devices('GPU')"
   ]
  },
  {
   "cell_type": "code",
   "execution_count": 3,
   "id": "378d045a-3003-4f93-b7d2-a25a97774a68",
   "metadata": {
    "tags": []
   },
   "outputs": [],
   "source": [
    "physical_devices = tf.config.list_physical_devices('GPU')\n",
    "try:\n",
    "    tf.config.experimental.set_memory_growth(physical_devices[0], True)\n",
    "except:\n",
    "    pass"
   ]
  },
  {
   "cell_type": "markdown",
   "id": "7a19e88e-c7b9-45c1-ae1e-f2109329c71b",
   "metadata": {
    "tags": []
   },
   "source": [
    "# 1. Build Data Loading Functions"
   ]
  },
  {
   "cell_type": "code",
   "execution_count": 4,
   "id": "8fb99c90-e05a-437f-839d-6e772f8c1dd5",
   "metadata": {
    "tags": []
   },
   "outputs": [],
   "source": [
    "import gdown"
   ]
  },
  {
   "cell_type": "code",
   "execution_count": null,
   "id": "c019e4c6-2af3-4160-99ea-5c8cb009f1a7",
   "metadata": {
    "tags": []
   },
   "outputs": [],
   "source": [
    "url = 'https://thor.robots.ox.ac.uk/~vgg/data/lip_reading/data1/lrw-v1-partaa'\n",
    "output = 'data.zip'\n",
    "gdown.download(url, output, quiet=False)\n",
    "gdown.extractall('data.zip')"
   ]
  },
  {
   "cell_type": "code",
   "execution_count": 65,
   "id": "90a07b1e",
   "metadata": {},
   "outputs": [
    {
     "name": "stdout",
     "output_type": "stream",
     "text": [
      "75 frames extracted and saved to .\\data\\output\\folder\n"
     ]
    }
   ],
   "source": [
    "# Feature Engineering\n",
    "# To Extract frame from a video and convert them into a grayscale images - Frame level Features\n",
    "# Grayscale images have only one channel, compared to three channels (red, green, and blue) in RGB images\n",
    "# Converting to grayscale can help the model focus on these important features without being influenced by\n",
    "#variations in color, lighting conditions, or color-specific details.\n",
    "# Noise reduction - Noise in color channels might be less informative.\n",
    "\n",
    "import cv2\n",
    "import os\n",
    "\n",
    "\n",
    "def extract_frames(video_path, output_folder):\n",
    "    # Open the video file\n",
    "    capture = cv2.VideoCapture('.\\\\data\\\\s1\\\\bbal6n.mpg')\n",
    "\n",
    "    # Check if the video opened successfully\n",
    "    if not capture.isOpened():\n",
    "        print(\"Error opening video file\")\n",
    "        return\n",
    "\n",
    "    # Create the output folder if it doesn't exist\n",
    "    if not os.path.exists(output_folder):\n",
    "        os.makedirs(output_folder)\n",
    "\n",
    "    frame_count = 0\n",
    "\n",
    "    # Loop through the frames\n",
    "    while True:\n",
    "        ret, frame = capture.read()\n",
    "\n",
    "        # Break the loop if we have reached the end of the video\n",
    "        if not ret:\n",
    "            break\n",
    "\n",
    "        # Convert the frame to grayscale\n",
    "        gray_frame = cv2.cvtColor(frame, cv2.COLOR_BGR2GRAY)\n",
    "\n",
    "        # Save the grayscale frame\n",
    "        frame_filename = os.path.join(output_folder, f\"frame_{frame_count:04d}.png\")\n",
    "        cv2.imwrite(frame_filename, gray_frame)\n",
    "\n",
    "        frame_count += 1\n",
    "\n",
    "    # Release the video capture object\n",
    "    capture.release()\n",
    "\n",
    "    print(f\"{frame_count} frames extracted and saved to {output_folder}\")\n",
    "\n",
    "\n",
    "video_path = \".\\\\data\\\\s1\\\\bbal6n.mpg\"\n",
    "output_folder = \".\\\\data\\\\output\\\\folder\"\n",
    "\n",
    "extract_frames(video_path, output_folder)\n",
    "\n"
   ]
  },
  {
   "cell_type": "code",
   "execution_count": null,
   "id": "5f3744fb",
   "metadata": {},
   "outputs": [],
   "source": [
    "# Data Augmentation -Data augmentation is a common technique to enhance the variability\n",
    "# of the training data and improve the generalization ability of the model\n",
    "\n",
    "\n",
    "\n",
    "from keras.preprocessing.image import ImageDataGenerator\n",
    "import matplotlib.pyplot as plt\n",
    "import os\n",
    "from PIL import Image\n",
    "\n",
    "def apply_data_augmentation(input_folder, output_folder, prefix, num_augmented_images_per_original=4):\n",
    "    # Create output folder if it doesn't exist\n",
    "    if not os.path.exists(output_folder):\n",
    "        os.makedirs(output_folder)\n",
    "\n",
    "    # Create an ImageDataGenerator instance\n",
    "    datagen = ImageDataGenerator(\n",
    "        rotation_range=40,\n",
    "        width_shift_range=0.2,\n",
    "        height_shift_range=0.2,\n",
    "        shear_range=0.2,\n",
    "        zoom_range=0.2,\n",
    "        horizontal_flip=True,\n",
    "        fill_mode='nearest'\n",
    "    )\n",
    "\n",
    "    # Loop through the images in the input folder\n",
    "    for filename in os.listdir(input_folder):\n",
    "        if filename.endswith(\".png\") or filename.endswith(\".jpg\"):\n",
    "            image_path = os.path.join(input_folder, filename)\n",
    "\n",
    "            # Load the image\n",
    "            img = Image.open(image_path)\n",
    "            img_array = plt.imread(image_path)  # for displaying\n",
    "\n",
    "            # Reshape the image to (1, height, width, channels) for flow method\n",
    "            img = img.resize((224, 224))  # Adjust the size as needed\n",
    "            img_array = img_array.reshape((1,) + img_array.shape)\n",
    "\n",
    "            # Generate augmented images\n",
    "            i = 0\n",
    "            for batch in datagen.flow(img_array, batch_size=1, save_to_dir=output_folder, save_prefix=prefix, save_format='png'):\n",
    "                i += 1\n",
    "                if i >= num_augmented_images_per_original:\n",
    "                    break  # Break the loop after generating the desired number of augmented images\n",
    "\n",
    "# Example\n",
    "input_folder = \".\\\\data\\\\img\"\n",
    "output_folder = \".\\\\data\\\\imgoutput\"\n",
    "prefix = \"augmented\"\n",
    "\n",
    "apply_data_augmentation(input_folder, output_folder, prefix)\n",
    "\n",
    "#The above function will apply various augmentations to each original image and\n",
    "#save the augmented images with the specified prefix in the output folder.\n"
   ]
  },
  {
   "cell_type": "code",
   "execution_count": null,
   "id": "fdec3721",
   "metadata": {},
   "outputs": [],
   "source": [
    "## Introducing variations in lighting conditions and background can be done\n",
    "#through a combination of image processing techniques.\n",
    "\n",
    "import cv2\n",
    "import numpy as np\n",
    "import os\n",
    "import random\n",
    "\n",
    "def introduce_variations(image_path, output_folder, num_variations=4):\n",
    "    # Create output folder if it doesn't exist\n",
    "    if not os.path.exists(output_folder):\n",
    "        os.makedirs(output_folder)\n",
    "\n",
    "    # Load the original image\n",
    "    original_image = cv2.imread(image_path)\n",
    "\n",
    "    # Define the range of brightness variations\n",
    "    brightness_factor_range = (0.7, 1.3)\n",
    "\n",
    "    for i in range(num_variations):\n",
    "        # Randomly adjust brightness\n",
    "        brightness_factor = random.uniform(*brightness_factor_range)\n",
    "        brightened_image = cv2.convertScaleAbs(original_image, alpha=brightness_factor, beta=0)\n",
    "\n",
    "        # Generate a random background color with the same size as the brightened image\n",
    "        background_color = np.random.randint(0, 256, size=brightened_image.shape, dtype=np.uint8)\n",
    "        background_color_image = np.ones_like(brightened_image) * background_color\n",
    "\n",
    "        # Combine the brightened image with the random background\n",
    "        varied_image = cv2.addWeighted(brightened_image, 0.5, background_color_image, 0.5, 0)\n",
    "\n",
    "        # Save the varied image\n",
    "        output_path = os.path.join(output_folder, f\"varied_image_{i}.png\")\n",
    "        cv2.imwrite(output_path, varied_image)\n",
    "\n",
    "# Example usage\n",
    "image_path = \".\\\\data\\\\img\\\\frame_0002.png\"\n",
    "output_folder = \".\\\\data\\\\output\\\\folder\"\n",
    "num_variations = 4\n",
    "\n",
    "introduce_variations(image_path, output_folder, num_variations)\n",
    "\n",
    "\n",
    "#This code will create variations of the original image by adjusting brightness and adding a random background color.\n",
    "#The varied images will be saved in the specified output folder.\n"
   ]
  },
  {
   "cell_type": "code",
   "execution_count": null,
   "id": "ab6f5c63",
   "metadata": {},
   "outputs": [],
   "source": [
    "#extract audio spectrograms - To convert the audio track of a video into spectrograms\n",
    "# uses - Speech Recognition, Deep learning models can be trained on the spectrogram representations of spoken\n",
    "#words or phrases to recognize and transcribe spoken language.\n",
    "# Audio Classification:You can use audio spectrograms to classify different types of sounds or events in audio data.\n",
    "#For example, classifying musical genres, identifying specific environmental sounds, or detecting anomalies in audio\n",
    "#streams.\n",
    "\n",
    "!pip install librosa\n",
    "!pip install numpy --user --verbose\n",
    "\n",
    "\n",
    "import cv2\n",
    "import librosa\n",
    "import librosa.display\n",
    "import numpy as np\n",
    "import os\n",
    "import matplotlib.pyplot as plt\n",
    "\n",
    "\n",
    "def extract_audio_spectrograms(video_path, output_folder):\n",
    "    # Create output folder if it doesn't exist\n",
    "    if not os.path.exists(output_folder):\n",
    "        os.makedirs(output_folder)\n",
    "\n",
    "    # Open the video file\n",
    "    cap = cv2.VideoCapture(video_path)\n",
    "\n",
    "    # Check if the video opened successfully\n",
    "    if not cap.isOpened():\n",
    "        print(\"Error opening video file\")\n",
    "        return\n",
    "\n",
    "    frame_rate = cap.get(cv2.CAP_PROP_FPS)\n",
    "\n",
    "    # Get the audio track from the video\n",
    "    audio_track, _ = librosa.load(video_path, sr=None, mono=True)\n",
    "\n",
    "    # Calculate the duration of each frame\n",
    "    frame_duration = 1.0 / frame_rate\n",
    "\n",
    "    # Calculate the spectrogram for each frame\n",
    "    for i in range(len(audio_track)):\n",
    "        start_time = i * frame_duration\n",
    "        end_time = (i + 1) * frame_duration\n",
    "\n",
    "        # Extract the audio segment corresponding to the current frame\n",
    "        audio_segment = audio_track[int(start_time * len(audio_track)):int(end_time * len(audio_track))]\n",
    "\n",
    "        # Compute the spectrogram\n",
    "        spectrogram = librosa.feature.melspectrogram(y=audio_segment, sr=frame_rate)\n",
    "        spectrogram_db = librosa.power_to_db(spectrogram, ref=np.max)\n",
    "\n",
    "        # Plot and save the spectrogram\n",
    "        plt.figure(figsize=(8, 6))\n",
    "        librosa.display.specshow(spectrogram_db, x_axis='time', y_axis='mel', sr=frame_rate, cmap='viridis')\n",
    "        plt.colorbar(format='%+2.0f dB')\n",
    "        plt.title(f'Spectrogram - Frame {i}')\n",
    "        plt.xlabel('Time (s)')\n",
    "        plt.ylabel('Frequency (Hz)')\n",
    "        plt.tight_layout()\n",
    "\n",
    "        # Save the spectrogram as an image\n",
    "        output_path = os.path.join(output_folder, f\"spectrogram_frame_{i}.png\")\n",
    "        plt.savefig(output_path)\n",
    "        plt.close()\n",
    "\n",
    "    # Release the video capture object\n",
    "    cap.release()\n",
    "\n",
    "\n",
    "video_path = \".\\\\data\\\\s1\\\\bbal6n.mpg\"\n",
    "output_folder = \".\\\\data\\\\spectograms_output\"\n",
    "\n",
    "extract_audio_spectrograms(video_path, output_folder)\n",
    "\n",
    "#This code will extract audio spectrograms for each frame of the video and save them as individual\n",
    "#PNG images in the specified output folder.\n",
    "\n",
    "\n"
   ]
  },
  {
   "cell_type": "code",
   "execution_count": null,
   "id": "516daf44",
   "metadata": {},
   "outputs": [],
   "source": [
    "#Feature scaling and normalization are essential preprocessing steps to ensure that features are on a similar scale,\n",
    "#which can improve the convergence of the model during training.\n",
    "\n",
    "from sklearn.preprocessing import StandardScaler\n",
    "import numpy as np\n",
    "\n",
    "# Assuming you have a feature matrix X (replace this with your actual feature matrix)\n",
    "# Each row of X represents a sample, and each column represents a feature\n",
    "\n",
    "# Generate a random example feature matrix\n",
    "np.random.seed(42)\n",
    "X = np.random.rand(100, 10)  # 100 samples with 10 features each\n",
    "\n",
    "# Initialize the StandardScaler\n",
    "scaler = StandardScaler()\n",
    "\n",
    "# Fit the scaler to your data and transform the data\n",
    "X_scaled = scaler.fit_transform(X)\n",
    "\n",
    "\n",
    "# Print the mean and standard deviation of each feature after scaling\n",
    "print(\"Mean of each feature after scaling:\\n\", X_scaled.mean(axis=0))\n",
    "print(\"Standard deviation of each feature after scaling:\\n\", X_scaled.std(axis=0))\n",
    "\n",
    "#This function assumes have a feature matrix X. The StandardScaler is used to scale each feature\n",
    "#to have a mean of 0 and a standard deviation of 1. After fitting the scaler to the data using fit_transform,\n",
    "#we can use the scaled features (X_scaled) for training the model.\n",
    "\n"
   ]
  },
  {
   "cell_type": "code",
   "execution_count": 5,
   "id": "8548cc59-6dfc-4acc-abc3-3e65212db02e",
   "metadata": {
    "tags": []
   },
   "outputs": [],
   "source": [
    "def load_video(path:str) -> List[float]: \n",
    "\n",
    "    cap = cv2.VideoCapture(path)\n",
    "    frames = []\n",
    "    for _ in range(int(cap.get(cv2.CAP_PROP_FRAME_COUNT))): \n",
    "        ret, frame = cap.read()\n",
    "        frame = tf.image.rgb_to_grayscale(frame)\n",
    "        frames.append(frame[190:236,80:220,:])\n",
    "    cap.release()\n",
    "    \n",
    "    mean = tf.math.reduce_mean(frames)\n",
    "    std = tf.math.reduce_std(tf.cast(frames, tf.float32))\n",
    "    return tf.cast((frames - mean), tf.float32) / std"
   ]
  },
  {
   "cell_type": "code",
   "execution_count": 6,
   "id": "ec735e0b-ec98-4eb0-8f49-c35527d6670a",
   "metadata": {
    "tags": []
   },
   "outputs": [],
   "source": [
    "vocab = [x for x in \"abcdefghijklmnopqrstuvwxyz'?!123456789 \"]"
   ]
  },
  {
   "cell_type": "code",
   "execution_count": 7,
   "id": "be04e972-d7a5-4a72-82d8-a6bdde1f3ce6",
   "metadata": {
    "tags": []
   },
   "outputs": [
    {
     "name": "stdout",
     "output_type": "stream",
     "text": [
      "The vocabulary is: ['', 'a', 'b', 'c', 'd', 'e', 'f', 'g', 'h', 'i', 'j', 'k', 'l', 'm', 'n', 'o', 'p', 'q', 'r', 's', 't', 'u', 'v', 'w', 'x', 'y', 'z', \"'\", '?', '!', '1', '2', '3', '4', '5', '6', '7', '8', '9', ' '] (size =40)\n"
     ]
    }
   ],
   "source": [
    "char_to_num = tf.keras.layers.StringLookup(vocabulary=vocab, oov_token=\"\")\n",
    "num_to_char = tf.keras.layers.StringLookup(\n",
    "    vocabulary=char_to_num.get_vocabulary(), oov_token=\"\", invert=True\n",
    ")\n",
    "\n",
    "print(\n",
    "    f\"The vocabulary is: {char_to_num.get_vocabulary()} \"\n",
    "    f\"(size ={char_to_num.vocabulary_size()})\"\n",
    ")"
   ]
  },
  {
   "cell_type": "code",
   "execution_count": 8,
   "id": "559f7420-6802-45fa-9ca0-b1ff209b461c",
   "metadata": {
    "tags": []
   },
   "outputs": [
    {
     "data": {
      "text/plain": [
       "['',\n",
       " 'a',\n",
       " 'b',\n",
       " 'c',\n",
       " 'd',\n",
       " 'e',\n",
       " 'f',\n",
       " 'g',\n",
       " 'h',\n",
       " 'i',\n",
       " 'j',\n",
       " 'k',\n",
       " 'l',\n",
       " 'm',\n",
       " 'n',\n",
       " 'o',\n",
       " 'p',\n",
       " 'q',\n",
       " 'r',\n",
       " 's',\n",
       " 't',\n",
       " 'u',\n",
       " 'v',\n",
       " 'w',\n",
       " 'x',\n",
       " 'y',\n",
       " 'z',\n",
       " \"'\",\n",
       " '?',\n",
       " '!',\n",
       " '1',\n",
       " '2',\n",
       " '3',\n",
       " '4',\n",
       " '5',\n",
       " '6',\n",
       " '7',\n",
       " '8',\n",
       " '9',\n",
       " ' ']"
      ]
     },
     "execution_count": 8,
     "metadata": {},
     "output_type": "execute_result"
    }
   ],
   "source": [
    "char_to_num.get_vocabulary()"
   ]
  },
  {
   "cell_type": "code",
   "execution_count": 9,
   "id": "797ff78b-b48f-4e14-bb62-8cd0ebf9501a",
   "metadata": {
    "tags": []
   },
   "outputs": [
    {
     "data": {
      "text/plain": [
       "<tf.Tensor: shape=(4,), dtype=int64, numpy=array([14,  9,  3, 11], dtype=int64)>"
      ]
     },
     "execution_count": 9,
     "metadata": {},
     "output_type": "execute_result"
    }
   ],
   "source": [
    "char_to_num(['n','i','c','k'])"
   ]
  },
  {
   "cell_type": "code",
   "execution_count": 10,
   "id": "8cd7f4f4-ae77-4509-a4f4-c723787ebad1",
   "metadata": {},
   "outputs": [
    {
     "data": {
      "text/plain": [
       "<tf.Tensor: shape=(4,), dtype=string, numpy=array([b'n', b'i', b'c', b'k'], dtype=object)>"
      ]
     },
     "execution_count": 10,
     "metadata": {},
     "output_type": "execute_result"
    }
   ],
   "source": [
    "num_to_char([14,  9,  3, 11])"
   ]
  },
  {
   "cell_type": "code",
   "execution_count": 11,
   "id": "9491bab5-6a3c-4f79-879a-8f9fbe73ae2e",
   "metadata": {
    "tags": []
   },
   "outputs": [],
   "source": [
    "def load_alignments(path:str) -> List[str]: \n",
    "    with open(path, 'r') as f: \n",
    "        lines = f.readlines() \n",
    "    tokens = []\n",
    "    for line in lines:\n",
    "        line = line.split()\n",
    "        if line[2] != 'sil': \n",
    "            tokens = [*tokens,' ',line[2]]\n",
    "    return char_to_num(tf.reshape(tf.strings.unicode_split(tokens, input_encoding='UTF-8'), (-1)))[1:]"
   ]
  },
  {
   "cell_type": "code",
   "execution_count": 12,
   "id": "dd01ca9f-77fb-4643-a2aa-47dd82c5d66b",
   "metadata": {
    "tags": []
   },
   "outputs": [],
   "source": [
    "def load_data(path: str): \n",
    "    path = bytes.decode(path.numpy())\n",
    "    #file_name = path.split('/')[-1].split('.')[0]\n",
    "    # File name splitting for windows\n",
    "    file_name = path.split('\\\\')[-1].split('.')[0]\n",
    "    video_path = os.path.join('data','s1',f'{file_name}.mpg')\n",
    "    alignment_path = os.path.join('data','alignments','s1',f'{file_name}.align')\n",
    "    frames = load_video(video_path) \n",
    "    alignments = load_alignments(alignment_path)\n",
    "    \n",
    "    return frames, alignments"
   ]
  },
  {
   "cell_type": "code",
   "execution_count": 13,
   "id": "8cb7cc58-31ae-4904-a805-1177a82717d2",
   "metadata": {
    "tags": []
   },
   "outputs": [],
   "source": [
    "test_path = '.\\\\data\\\\s1\\\\bbal6n.mpg'"
   ]
  },
  {
   "cell_type": "code",
   "execution_count": 14,
   "id": "76aa964f-0c84-490d-897a-d00e3966e2c9",
   "metadata": {},
   "outputs": [
    {
     "data": {
      "text/plain": [
       "'bbal6n'"
      ]
     },
     "execution_count": 14,
     "metadata": {},
     "output_type": "execute_result"
    }
   ],
   "source": [
    "tf.convert_to_tensor(test_path).numpy().decode('utf-8').split('\\\\')[-1].split('.')[0]"
   ]
  },
  {
   "cell_type": "code",
   "execution_count": 15,
   "id": "eb602c71-8560-4f9e-b26b-08202febb937",
   "metadata": {
    "scrolled": true,
    "tags": []
   },
   "outputs": [],
   "source": [
    "frames, alignments = load_data(tf.convert_to_tensor(test_path))"
   ]
  },
  {
   "cell_type": "code",
   "execution_count": 16,
   "id": "0e3184a1-6b02-4b4f-84a8-a0a65f951ea2",
   "metadata": {},
   "outputs": [
    {
     "data": {
      "text/plain": [
       "<matplotlib.image.AxesImage at 0x1a7cfa15480>"
      ]
     },
     "execution_count": 16,
     "metadata": {},
     "output_type": "execute_result"
    },
    {
     "data": {
      "image/png": "[encoded data removed]",
      "text/plain": [
       "<Figure size 640x480 with 1 Axes>"
      ]
     },
     "metadata": {},
     "output_type": "display_data"
    }
   ],
   "source": [
    "plt.imshow(frames[40])"
   ]
  },
  {
   "cell_type": "code",
   "execution_count": 17,
   "id": "d7ec0833-d54b-4073-84cf-92d011c60ec1",
   "metadata": {},
   "outputs": [
    {
     "data": {
      "text/plain": [
       "<tf.Tensor: shape=(21,), dtype=int64, numpy=\n",
       "array([ 2,  9, 14, 39,  2, 12, 21,  5, 39,  1, 20, 39, 12, 39, 19,  9, 24,\n",
       "       39, 14, 15, 23], dtype=int64)>"
      ]
     },
     "execution_count": 17,
     "metadata": {},
     "output_type": "execute_result"
    }
   ],
   "source": [
    "alignments"
   ]
  },
  {
   "cell_type": "code",
   "execution_count": 18,
   "id": "fe1ad370-b287-4b46-85a2-7c45b0bd9b10",
   "metadata": {},
   "outputs": [
    {
     "data": {
      "text/plain": [
       "<tf.Tensor: shape=(), dtype=string, numpy=b'bin blue at l six now'>"
      ]
     },
     "execution_count": 18,
     "metadata": {},
     "output_type": "execute_result"
    }
   ],
   "source": [
    "tf.strings.reduce_join([bytes.decode(x) for x in num_to_char(alignments.numpy()).numpy()])"
   ]
  },
  {
   "cell_type": "code",
   "execution_count": 19,
   "id": "6871031a-b0ba-4c76-a852-f6329b0f2606",
   "metadata": {
    "tags": []
   },
   "outputs": [],
   "source": [
    "def mappable_function(path:str) ->List[str]:\n",
    "    result = tf.py_function(load_data, [path], (tf.float32, tf.int64))\n",
    "    return result"
   ]
  },
  {
   "cell_type": "markdown",
   "id": "c40a7eb4-0c3e-4eab-9291-5611cb68ce08",
   "metadata": {
    "tags": []
   },
   "source": [
    "# 2. Create Data Pipeline"
   ]
  },
  {
   "cell_type": "code",
   "execution_count": 20,
   "id": "7686355d-45aa-4c85-ad9c-053e6a9b4d81",
   "metadata": {
    "tags": []
   },
   "outputs": [],
   "source": [
    "from matplotlib import pyplot as plt"
   ]
  },
  {
   "cell_type": "code",
   "execution_count": 21,
   "id": "f066fea2-91b1-42ed-a67d-00566a1a53ff",
   "metadata": {
    "tags": []
   },
   "outputs": [],
   "source": [
    "data = tf.data.Dataset.list_files('./data/s1/*.mpg')\n",
    "data = data.shuffle(500, reshuffle_each_iteration=False)\n",
    "data = data.map(mappable_function)\n",
    "data = data.padded_batch(2, padded_shapes=([75,None,None,None],[40]))\n",
    "data = data.prefetch(tf.data.AUTOTUNE)\n",
    "# Added for split \n",
    "train = data.take(495)\n",
    "test = data.skip(5)"
   ]
  },
  {
   "cell_type": "code",
   "execution_count": 22,
   "id": "6b1365bd-7742-41d1-95d4-247021751c3a",
   "metadata": {},
   "outputs": [
    {
     "data": {
      "text/plain": [
       "495"
      ]
     },
     "execution_count": 22,
     "metadata": {},
     "output_type": "execute_result"
    }
   ],
   "source": [
    "len(test)"
   ]
  },
  {
   "cell_type": "code",
   "execution_count": 23,
   "id": "5281bde8-fdc8-4da1-bd55-5a7929a9e80c",
   "metadata": {},
   "outputs": [],
   "source": [
    "frames, alignments = data.as_numpy_iterator().next()"
   ]
  },
  {
   "cell_type": "code",
   "execution_count": 24,
   "id": "cbebe683-6afd-47fd-bba4-c83b4b13bb32",
   "metadata": {},
   "outputs": [
    {
     "data": {
      "text/plain": [
       "2"
      ]
     },
     "execution_count": 24,
     "metadata": {},
     "output_type": "execute_result"
    }
   ],
   "source": [
    "len(frames)"
   ]
  },
  {
   "cell_type": "code",
   "execution_count": 25,
   "id": "5cf2d676-93a9-434c-b3c7-bdcc2577b2e7",
   "metadata": {
    "tags": []
   },
   "outputs": [],
   "source": [
    "sample = data.as_numpy_iterator()"
   ]
  },
  {
   "cell_type": "code",
   "execution_count": 26,
   "id": "efa6cd46-7079-46c0-b45b-832f339f6cb0",
   "metadata": {
    "scrolled": true,
    "tags": []
   },
   "outputs": [
    {
     "data": {
      "text/plain": [
       "array([[[[[ 1.2631532 ],\n",
       "          [ 1.3815738 ],\n",
       "          [ 1.1842061 ],\n",
       "          ...,\n",
       "          [ 0.3157883 ],\n",
       "          [ 0.27631477],\n",
       "          [ 0.27631477]],\n",
       "\n",
       "         [[ 1.3421003 ],\n",
       "          [ 1.4210473 ],\n",
       "          [ 1.1842061 ],\n",
       "          ...,\n",
       "          [ 0.3157883 ],\n",
       "          [ 0.27631477],\n",
       "          [ 0.27631477]],\n",
       "\n",
       "         [[ 1.2236797 ],\n",
       "          [ 1.3421003 ],\n",
       "          [ 1.0657855 ],\n",
       "          ...,\n",
       "          [ 0.3157883 ],\n",
       "          [ 0.27631477],\n",
       "          [ 0.27631477]],\n",
       "\n",
       "         ...,\n",
       "\n",
       "         [[ 1.1052591 ],\n",
       "          [ 1.1052591 ],\n",
       "          [ 1.1052591 ],\n",
       "          ...,\n",
       "          [ 0.03947354],\n",
       "          [ 0.        ],\n",
       "          [ 0.        ]],\n",
       "\n",
       "         [[ 1.1052591 ],\n",
       "          [ 1.1052591 ],\n",
       "          [ 1.0657855 ],\n",
       "          ...,\n",
       "          [ 0.03947354],\n",
       "          [ 0.        ],\n",
       "          [ 0.        ]],\n",
       "\n",
       "         [[ 1.1052591 ],\n",
       "          [ 1.1052591 ],\n",
       "          [ 1.0657855 ],\n",
       "          ...,\n",
       "          [ 0.03947354],\n",
       "          [ 0.        ],\n",
       "          [ 0.        ]]],\n",
       "\n",
       "\n",
       "        [[[ 1.3421003 ],\n",
       "          [ 1.4605209 ],\n",
       "          [ 1.1842061 ],\n",
       "          ...,\n",
       "          [ 0.3157883 ],\n",
       "          [ 0.27631477],\n",
       "          [ 0.27631477]],\n",
       "\n",
       "         [[ 1.4605209 ],\n",
       "          [ 1.4999944 ],\n",
       "          [ 1.2631532 ],\n",
       "          ...,\n",
       "          [ 0.3157883 ],\n",
       "          [ 0.27631477],\n",
       "          [ 0.27631477]],\n",
       "\n",
       "         [[ 1.3421003 ],\n",
       "          [ 1.5789415 ],\n",
       "          [ 1.3026267 ],\n",
       "          ...,\n",
       "          [ 0.27631477],\n",
       "          [ 0.27631477],\n",
       "          [ 0.27631477]],\n",
       "\n",
       "         ...,\n",
       "\n",
       "         [[ 1.1842061 ],\n",
       "          [ 1.1842061 ],\n",
       "          [ 1.1842061 ],\n",
       "          ...,\n",
       "          [ 0.        ],\n",
       "          [ 0.        ],\n",
       "          [ 0.        ]],\n",
       "\n",
       "         [[ 1.0657855 ],\n",
       "          [ 1.0657855 ],\n",
       "          [ 1.0657855 ],\n",
       "          ...,\n",
       "          [ 0.        ],\n",
       "          [ 0.        ],\n",
       "          [ 0.        ]],\n",
       "\n",
       "         [[ 1.0657855 ],\n",
       "          [ 1.0657855 ],\n",
       "          [ 1.0657855 ],\n",
       "          ...,\n",
       "          [ 0.        ],\n",
       "          [ 0.        ],\n",
       "          [10.065752  ]]],\n",
       "\n",
       "\n",
       "        [[[ 1.4210473 ],\n",
       "          [ 1.4999944 ],\n",
       "          [ 1.3026267 ],\n",
       "          ...,\n",
       "          [ 0.3157883 ],\n",
       "          [ 0.27631477],\n",
       "          [ 0.27631477]],\n",
       "\n",
       "         [[ 1.4605209 ],\n",
       "          [ 1.5789415 ],\n",
       "          [ 1.3421003 ],\n",
       "          ...,\n",
       "          [ 0.3157883 ],\n",
       "          [ 0.27631477],\n",
       "          [ 0.27631477]],\n",
       "\n",
       "         [[ 1.3421003 ],\n",
       "          [ 1.618415  ],\n",
       "          [ 1.3026267 ],\n",
       "          ...,\n",
       "          [ 0.27631477],\n",
       "          [ 0.27631477],\n",
       "          [ 0.27631477]],\n",
       "\n",
       "         ...,\n",
       "\n",
       "         [[ 1.2236797 ],\n",
       "          [ 1.2236797 ],\n",
       "          [ 1.1842061 ],\n",
       "          ...,\n",
       "          [ 0.        ],\n",
       "          [ 0.        ],\n",
       "          [ 0.        ]],\n",
       "\n",
       "         [[ 1.1842061 ],\n",
       "          [ 1.1842061 ],\n",
       "          [ 1.0657855 ],\n",
       "          ...,\n",
       "          [ 0.        ],\n",
       "          [ 0.        ],\n",
       "          [ 0.        ]],\n",
       "\n",
       "         [[ 1.1842061 ],\n",
       "          [ 1.1842061 ],\n",
       "          [ 1.0657855 ],\n",
       "          ...,\n",
       "          [ 0.        ],\n",
       "          [ 0.        ],\n",
       "          [ 0.        ]]],\n",
       "\n",
       "\n",
       "        ...,\n",
       "\n",
       "\n",
       "        [[[ 1.1447326 ],\n",
       "          [ 1.1447326 ],\n",
       "          [ 1.0657855 ],\n",
       "          ...,\n",
       "          [ 0.27631477],\n",
       "          [ 0.27631477],\n",
       "          [ 0.27631477]],\n",
       "\n",
       "         [[ 1.1447326 ],\n",
       "          [ 1.1447326 ],\n",
       "          [ 1.0657855 ],\n",
       "          ...,\n",
       "          [ 0.27631477],\n",
       "          [ 0.27631477],\n",
       "          [ 0.27631477]],\n",
       "\n",
       "         [[ 1.1842061 ],\n",
       "          [ 1.3026267 ],\n",
       "          [ 0.98683846],\n",
       "          ...,\n",
       "          [ 0.19736768],\n",
       "          [ 0.19736768],\n",
       "          [ 0.19736768]],\n",
       "\n",
       "         ...,\n",
       "\n",
       "         [[ 1.1447326 ],\n",
       "          [ 1.1447326 ],\n",
       "          [ 1.1052591 ],\n",
       "          ...,\n",
       "          [ 0.        ],\n",
       "          [ 0.        ],\n",
       "          [ 0.        ]],\n",
       "\n",
       "         [[ 1.1052591 ],\n",
       "          [ 1.1052591 ],\n",
       "          [ 1.1052591 ],\n",
       "          ...,\n",
       "          [ 0.        ],\n",
       "          [ 0.        ],\n",
       "          [10.065752  ]],\n",
       "\n",
       "         [[ 1.1052591 ],\n",
       "          [ 1.1052591 ],\n",
       "          [ 1.0657855 ],\n",
       "          ...,\n",
       "          [ 0.        ],\n",
       "          [10.065752  ],\n",
       "          [10.065752  ]]],\n",
       "\n",
       "\n",
       "        [[[ 1.1052591 ],\n",
       "          [ 1.1447326 ],\n",
       "          [ 0.98683846],\n",
       "          ...,\n",
       "          [ 0.27631477],\n",
       "          [ 0.27631477],\n",
       "          [ 0.27631477]],\n",
       "\n",
       "         [[ 1.1052591 ],\n",
       "          [ 1.1052591 ],\n",
       "          [ 0.9473649 ],\n",
       "          ...,\n",
       "          [ 0.27631477],\n",
       "          [ 0.27631477],\n",
       "          [ 0.27631477]],\n",
       "\n",
       "         [[ 1.3815738 ],\n",
       "          [ 1.4210473 ],\n",
       "          [ 0.98683846],\n",
       "          ...,\n",
       "          [ 0.27631477],\n",
       "          [ 0.27631477],\n",
       "          [ 0.19736768]],\n",
       "\n",
       "         ...,\n",
       "\n",
       "         [[ 1.1447326 ],\n",
       "          [ 1.1447326 ],\n",
       "          [ 1.1052591 ],\n",
       "          ...,\n",
       "          [ 0.        ],\n",
       "          [ 0.        ],\n",
       "          [ 0.        ]],\n",
       "\n",
       "         [[ 1.1052591 ],\n",
       "          [ 1.1052591 ],\n",
       "          [ 1.1052591 ],\n",
       "          ...,\n",
       "          [ 0.        ],\n",
       "          [ 0.        ],\n",
       "          [ 0.        ]],\n",
       "\n",
       "         [[ 1.1052591 ],\n",
       "          [ 1.1052591 ],\n",
       "          [ 1.1052591 ],\n",
       "          ...,\n",
       "          [ 0.        ],\n",
       "          [ 0.        ],\n",
       "          [10.065752  ]]],\n",
       "\n",
       "\n",
       "        [[[ 1.026312  ],\n",
       "          [ 1.1447326 ],\n",
       "          [ 1.026312  ],\n",
       "          ...,\n",
       "          [ 0.27631477],\n",
       "          [ 0.27631477],\n",
       "          [ 0.27631477]],\n",
       "\n",
       "         [[ 1.1052591 ],\n",
       "          [ 1.0657855 ],\n",
       "          [ 0.8684178 ],\n",
       "          ...,\n",
       "          [ 0.27631477],\n",
       "          [ 0.27631477],\n",
       "          [ 0.27631477]],\n",
       "\n",
       "         [[ 1.3815738 ],\n",
       "          [ 1.4210473 ],\n",
       "          [ 0.98683846],\n",
       "          ...,\n",
       "          [ 0.23684123],\n",
       "          [ 0.23684123],\n",
       "          [ 0.23684123]],\n",
       "\n",
       "         ...,\n",
       "\n",
       "         [[ 1.0657855 ],\n",
       "          [ 1.0657855 ],\n",
       "          [ 1.0657855 ],\n",
       "          ...,\n",
       "          [ 0.        ],\n",
       "          [ 0.        ],\n",
       "          [ 0.        ]],\n",
       "\n",
       "         [[ 1.1052591 ],\n",
       "          [ 1.1052591 ],\n",
       "          [ 1.1052591 ],\n",
       "          ...,\n",
       "          [ 0.        ],\n",
       "          [ 0.        ],\n",
       "          [ 0.        ]],\n",
       "\n",
       "         [[ 1.1052591 ],\n",
       "          [ 1.1052591 ],\n",
       "          [ 1.1052591 ],\n",
       "          ...,\n",
       "          [ 0.        ],\n",
       "          [ 0.        ],\n",
       "          [10.065752  ]]]],\n",
       "\n",
       "\n",
       "\n",
       "       [[[[ 1.654154  ],\n",
       "          [ 1.654154  ],\n",
       "          [ 1.6138088 ],\n",
       "          ...,\n",
       "          [ 0.04034522],\n",
       "          [ 0.08069044],\n",
       "          [ 0.08069044]],\n",
       "\n",
       "         [[ 1.654154  ],\n",
       "          [ 1.654154  ],\n",
       "          [ 1.6138088 ],\n",
       "          ...,\n",
       "          [ 0.04034522],\n",
       "          [ 0.08069044],\n",
       "          [ 0.08069044]],\n",
       "\n",
       "         [[ 1.4120827 ],\n",
       "          [ 1.4120827 ],\n",
       "          [ 1.4120827 ],\n",
       "          ...,\n",
       "          [ 0.08069044],\n",
       "          [ 0.08069044],\n",
       "          [ 0.08069044]],\n",
       "\n",
       "         ...,\n",
       "\n",
       "         [[ 1.0086304 ],\n",
       "          [ 1.0086304 ],\n",
       "          [ 1.0086304 ],\n",
       "          ...,\n",
       "          [10.086305  ],\n",
       "          [10.086305  ],\n",
       "          [10.086305  ]],\n",
       "\n",
       "         [[ 1.0086304 ],\n",
       "          [ 1.0086304 ],\n",
       "          [ 1.0086304 ],\n",
       "          ...,\n",
       "          [10.086305  ],\n",
       "          [10.086305  ],\n",
       "          [10.086305  ]],\n",
       "\n",
       "         [[ 1.0086304 ],\n",
       "          [ 1.0086304 ],\n",
       "          [ 1.0086304 ],\n",
       "          ...,\n",
       "          [10.086305  ],\n",
       "          [10.086305  ],\n",
       "          [10.086305  ]]],\n",
       "\n",
       "\n",
       "        [[[ 1.5331182 ],\n",
       "          [ 1.5331182 ],\n",
       "          [ 1.5734634 ],\n",
       "          ...,\n",
       "          [ 0.12103565],\n",
       "          [ 0.08069044],\n",
       "          [ 0.08069044]],\n",
       "\n",
       "         [[ 1.5331182 ],\n",
       "          [ 1.5331182 ],\n",
       "          [ 1.5734634 ],\n",
       "          ...,\n",
       "          [ 0.12103565],\n",
       "          [ 0.08069044],\n",
       "          [ 0.08069044]],\n",
       "\n",
       "         [[ 1.492773  ],\n",
       "          [ 1.492773  ],\n",
       "          [ 1.492773  ],\n",
       "          ...,\n",
       "          [ 0.12103565],\n",
       "          [ 0.08069044],\n",
       "          [ 0.08069044]],\n",
       "\n",
       "         ...,\n",
       "\n",
       "         [[ 1.0086304 ],\n",
       "          [ 1.0086304 ],\n",
       "          [ 1.0086304 ],\n",
       "          ...,\n",
       "          [10.12665   ],\n",
       "          [10.12665   ],\n",
       "          [10.12665   ]],\n",
       "\n",
       "         [[ 1.0086304 ],\n",
       "          [ 1.0086304 ],\n",
       "          [ 1.0086304 ],\n",
       "          ...,\n",
       "          [10.12665   ],\n",
       "          [10.12665   ],\n",
       "          [10.12665   ]],\n",
       "\n",
       "         [[ 1.0086304 ],\n",
       "          [ 1.0086304 ],\n",
       "          [ 1.0086304 ],\n",
       "          ...,\n",
       "          [10.12665   ],\n",
       "          [10.12665   ],\n",
       "          [10.12665   ]]],\n",
       "\n",
       "\n",
       "        [[[ 1.4524279 ],\n",
       "          [ 1.4524279 ],\n",
       "          [ 1.492773  ],\n",
       "          ...,\n",
       "          [ 0.08069044],\n",
       "          [ 0.04034522],\n",
       "          [ 0.04034522]],\n",
       "\n",
       "         [[ 1.4524279 ],\n",
       "          [ 1.4524279 ],\n",
       "          [ 1.492773  ],\n",
       "          ...,\n",
       "          [ 0.04034522],\n",
       "          [ 0.04034522],\n",
       "          [ 0.04034522]],\n",
       "\n",
       "         [[ 1.492773  ],\n",
       "          [ 1.492773  ],\n",
       "          [ 1.492773  ],\n",
       "          ...,\n",
       "          [ 0.12103565],\n",
       "          [ 0.08069044],\n",
       "          [ 0.08069044]],\n",
       "\n",
       "         ...,\n",
       "\n",
       "         [[ 1.0086304 ],\n",
       "          [ 1.0086304 ],\n",
       "          [ 1.0086304 ],\n",
       "          ...,\n",
       "          [10.12665   ],\n",
       "          [10.12665   ],\n",
       "          [10.12665   ]],\n",
       "\n",
       "         [[ 1.0086304 ],\n",
       "          [ 1.0086304 ],\n",
       "          [ 1.0086304 ],\n",
       "          ...,\n",
       "          [10.12665   ],\n",
       "          [10.12665   ],\n",
       "          [10.12665   ]],\n",
       "\n",
       "         [[ 1.0086304 ],\n",
       "          [ 1.0086304 ],\n",
       "          [ 1.0086304 ],\n",
       "          ...,\n",
       "          [10.12665   ],\n",
       "          [10.12665   ],\n",
       "          [10.12665   ]]],\n",
       "\n",
       "\n",
       "        ...,\n",
       "\n",
       "\n",
       "        [[[ 1.492773  ],\n",
       "          [ 1.492773  ],\n",
       "          [ 1.4524279 ],\n",
       "          ...,\n",
       "          [ 0.04034522],\n",
       "          [ 0.04034522],\n",
       "          [ 0.04034522]],\n",
       "\n",
       "         [[ 1.492773  ],\n",
       "          [ 1.492773  ],\n",
       "          [ 1.4524279 ],\n",
       "          ...,\n",
       "          [ 0.04034522],\n",
       "          [ 0.04034522],\n",
       "          [ 0.04034522]],\n",
       "\n",
       "         [[ 1.4120827 ],\n",
       "          [ 1.4120827 ],\n",
       "          [ 1.4120827 ],\n",
       "          ...,\n",
       "          [ 0.04034522],\n",
       "          [ 0.04034522],\n",
       "          [ 0.04034522]],\n",
       "\n",
       "         ...,\n",
       "\n",
       "         [[ 1.0489757 ],\n",
       "          [ 1.0489757 ],\n",
       "          [ 1.0489757 ],\n",
       "          ...,\n",
       "          [10.045959  ],\n",
       "          [10.045959  ],\n",
       "          [10.045959  ]],\n",
       "\n",
       "         [[ 1.0489757 ],\n",
       "          [ 1.0489757 ],\n",
       "          [ 1.0489757 ],\n",
       "          ...,\n",
       "          [10.045959  ],\n",
       "          [10.045959  ],\n",
       "          [10.005614  ]],\n",
       "\n",
       "         [[ 1.0489757 ],\n",
       "          [ 1.0489757 ],\n",
       "          [ 0.9682852 ],\n",
       "          ...,\n",
       "          [10.045959  ],\n",
       "          [10.005614  ],\n",
       "          [10.005614  ]]],\n",
       "\n",
       "\n",
       "        [[[ 1.4524279 ],\n",
       "          [ 1.4524279 ],\n",
       "          [ 1.4524279 ],\n",
       "          ...,\n",
       "          [ 0.        ],\n",
       "          [ 0.04034522],\n",
       "          [ 0.04034522]],\n",
       "\n",
       "         [[ 1.4524279 ],\n",
       "          [ 1.4524279 ],\n",
       "          [ 1.4524279 ],\n",
       "          ...,\n",
       "          [ 0.        ],\n",
       "          [ 0.04034522],\n",
       "          [ 0.04034522]],\n",
       "\n",
       "         [[ 1.4524279 ],\n",
       "          [ 1.4524279 ],\n",
       "          [ 1.4524279 ],\n",
       "          ...,\n",
       "          [ 0.04034522],\n",
       "          [ 0.        ],\n",
       "          [ 0.        ]],\n",
       "\n",
       "         ...,\n",
       "\n",
       "         [[ 1.0489757 ],\n",
       "          [ 1.0489757 ],\n",
       "          [ 1.0489757 ],\n",
       "          ...,\n",
       "          [10.045959  ],\n",
       "          [10.045959  ],\n",
       "          [10.045959  ]],\n",
       "\n",
       "         [[ 1.0489757 ],\n",
       "          [ 1.0489757 ],\n",
       "          [ 1.0489757 ],\n",
       "          ...,\n",
       "          [10.045959  ],\n",
       "          [10.045959  ],\n",
       "          [10.045959  ]],\n",
       "\n",
       "         [[ 1.0489757 ],\n",
       "          [ 1.0489757 ],\n",
       "          [ 1.0086304 ],\n",
       "          ...,\n",
       "          [10.045959  ],\n",
       "          [10.045959  ],\n",
       "          [10.005614  ]]],\n",
       "\n",
       "\n",
       "        [[[ 1.492773  ],\n",
       "          [ 1.492773  ],\n",
       "          [ 1.4524279 ],\n",
       "          ...,\n",
       "          [ 0.        ],\n",
       "          [ 0.04034522],\n",
       "          [ 0.04034522]],\n",
       "\n",
       "         [[ 1.492773  ],\n",
       "          [ 1.492773  ],\n",
       "          [ 1.4524279 ],\n",
       "          ...,\n",
       "          [ 0.        ],\n",
       "          [ 0.04034522],\n",
       "          [ 0.04034522]],\n",
       "\n",
       "         [[ 1.4524279 ],\n",
       "          [ 1.4524279 ],\n",
       "          [ 1.4524279 ],\n",
       "          ...,\n",
       "          [ 0.04034522],\n",
       "          [ 0.08069044],\n",
       "          [ 0.08069044]],\n",
       "\n",
       "         ...,\n",
       "\n",
       "         [[ 0.9682852 ],\n",
       "          [ 0.9682852 ],\n",
       "          [ 0.9682852 ],\n",
       "          ...,\n",
       "          [10.086305  ],\n",
       "          [10.086305  ],\n",
       "          [10.086305  ]],\n",
       "\n",
       "         [[ 0.9682852 ],\n",
       "          [ 0.9682852 ],\n",
       "          [ 0.9682852 ],\n",
       "          ...,\n",
       "          [10.086305  ],\n",
       "          [10.086305  ],\n",
       "          [10.086305  ]],\n",
       "\n",
       "         [[ 0.9682852 ],\n",
       "          [ 0.9682852 ],\n",
       "          [ 0.92794   ],\n",
       "          ...,\n",
       "          [10.086305  ],\n",
       "          [10.086305  ],\n",
       "          [10.045959  ]]]]], dtype=float32)"
      ]
     },
     "execution_count": 26,
     "metadata": {},
     "output_type": "execute_result"
    }
   ],
   "source": [
    "val = sample.next(); val[0]"
   ]
  },
  {
   "cell_type": "code",
   "execution_count": 27,
   "id": "acf5eb4f-a0da-4a9a-bf24-af13e9cc2fbe",
   "metadata": {
    "tags": []
   },
   "outputs": [
    {
     "name": "stderr",
     "output_type": "stream",
     "text": [
      "Lossy conversion from float32 to uint8. Range [0.0, 10.065752029418945]. Convert image to uint8 prior to saving to suppress this warning.\n",
      "Lossy conversion from float32 to uint8. Range [0.0, 10.065752029418945]. Convert image to uint8 prior to saving to suppress this warning.\n",
      "Lossy conversion from float32 to uint8. Range [0.0, 10.065752029418945]. Convert image to uint8 prior to saving to suppress this warning.\n",
      "Lossy conversion from float32 to uint8. Range [0.0, 10.065752029418945]. Convert image to uint8 prior to saving to suppress this warning.\n",
      "Lossy conversion from float32 to uint8. Range [0.0, 10.065752029418945]. Convert image to uint8 prior to saving to suppress this warning.\n",
      "Lossy conversion from float32 to uint8. Range [0.0, 10.065752029418945]. Convert image to uint8 prior to saving to suppress this warning.\n",
      "Lossy conversion from float32 to uint8. Range [0.0, 10.065752029418945]. Convert image to uint8 prior to saving to suppress this warning.\n",
      "Lossy conversion from float32 to uint8. Range [0.0, 10.065752029418945]. Convert image to uint8 prior to saving to suppress this warning.\n",
      "Lossy conversion from float32 to uint8. Range [0.0, 10.065752029418945]. Convert image to uint8 prior to saving to suppress this warning.\n",
      "Lossy conversion from float32 to uint8. Range [0.0, 10.065752029418945]. Convert image to uint8 prior to saving to suppress this warning.\n",
      "Lossy conversion from float32 to uint8. Range [0.0, 10.065752029418945]. Convert image to uint8 prior to saving to suppress this warning.\n",
      "Lossy conversion from float32 to uint8. Range [0.0, 10.065752029418945]. Convert image to uint8 prior to saving to suppress this warning.\n",
      "Lossy conversion from float32 to uint8. Range [0.0, 10.065752029418945]. Convert image to uint8 prior to saving to suppress this warning.\n",
      "Lossy conversion from float32 to uint8. Range [0.0, 10.065752029418945]. Convert image to uint8 prior to saving to suppress this warning.\n",
      "Lossy conversion from float32 to uint8. Range [0.0, 10.065752029418945]. Convert image to uint8 prior to saving to suppress this warning.\n",
      "Lossy conversion from float32 to uint8. Range [0.0, 10.065752029418945]. Convert image to uint8 prior to saving to suppress this warning.\n",
      "Lossy conversion from float32 to uint8. Range [0.0, 10.065752029418945]. Convert image to uint8 prior to saving to suppress this warning.\n",
      "Lossy conversion from float32 to uint8. Range [0.0, 10.065752029418945]. Convert image to uint8 prior to saving to suppress this warning.\n",
      "Lossy conversion from float32 to uint8. Range [0.0, 10.065752029418945]. Convert image to uint8 prior to saving to suppress this warning.\n",
      "Lossy conversion from float32 to uint8. Range [0.0, 10.065752029418945]. Convert image to uint8 prior to saving to suppress this warning.\n",
      "Lossy conversion from float32 to uint8. Range [0.0, 10.065752029418945]. Convert image to uint8 prior to saving to suppress this warning.\n",
      "Lossy conversion from float32 to uint8. Range [0.0, 10.065752029418945]. Convert image to uint8 prior to saving to suppress this warning.\n",
      "Lossy conversion from float32 to uint8. Range [0.0, 10.065752029418945]. Convert image to uint8 prior to saving to suppress this warning.\n",
      "Lossy conversion from float32 to uint8. Range [0.0, 10.065752029418945]. Convert image to uint8 prior to saving to suppress this warning.\n",
      "Lossy conversion from float32 to uint8. Range [0.0, 10.065752029418945]. Convert image to uint8 prior to saving to suppress this warning.\n",
      "Lossy conversion from float32 to uint8. Range [0.0, 10.065752029418945]. Convert image to uint8 prior to saving to suppress this warning.\n",
      "Lossy conversion from float32 to uint8. Range [0.0, 10.065752029418945]. Convert image to uint8 prior to saving to suppress this warning.\n",
      "Lossy conversion from float32 to uint8. Range [0.0, 10.065752029418945]. Convert image to uint8 prior to saving to suppress this warning.\n",
      "Lossy conversion from float32 to uint8. Range [0.0, 10.065752029418945]. Convert image to uint8 prior to saving to suppress this warning.\n",
      "Lossy conversion from float32 to uint8. Range [0.0, 10.065752029418945]. Convert image to uint8 prior to saving to suppress this warning.\n",
      "Lossy conversion from float32 to uint8. Range [0.0, 10.065752029418945]. Convert image to uint8 prior to saving to suppress this warning.\n",
      "Lossy conversion from float32 to uint8. Range [0.0, 10.065752029418945]. Convert image to uint8 prior to saving to suppress this warning.\n",
      "Lossy conversion from float32 to uint8. Range [0.0, 10.065752029418945]. Convert image to uint8 prior to saving to suppress this warning.\n",
      "Lossy conversion from float32 to uint8. Range [0.0, 10.065752029418945]. Convert image to uint8 prior to saving to suppress this warning.\n",
      "Lossy conversion from float32 to uint8. Range [0.0, 10.065752029418945]. Convert image to uint8 prior to saving to suppress this warning.\n",
      "Lossy conversion from float32 to uint8. Range [0.0, 10.065752029418945]. Convert image to uint8 prior to saving to suppress this warning.\n",
      "Lossy conversion from float32 to uint8. Range [0.0, 10.065752029418945]. Convert image to uint8 prior to saving to suppress this warning.\n",
      "Lossy conversion from float32 to uint8. Range [0.0, 10.065752029418945]. Convert image to uint8 prior to saving to suppress this warning.\n",
      "Lossy conversion from float32 to uint8. Range [0.0, 10.065752029418945]. Convert image to uint8 prior to saving to suppress this warning.\n",
      "Lossy conversion from float32 to uint8. Range [0.0, 10.065752029418945]. Convert image to uint8 prior to saving to suppress this warning.\n",
      "Lossy conversion from float32 to uint8. Range [0.0, 10.065752029418945]. Convert image to uint8 prior to saving to suppress this warning.\n",
      "Lossy conversion from float32 to uint8. Range [0.0, 10.065752029418945]. Convert image to uint8 prior to saving to suppress this warning.\n",
      "Lossy conversion from float32 to uint8. Range [0.0, 10.065752029418945]. Convert image to uint8 prior to saving to suppress this warning.\n",
      "Lossy conversion from float32 to uint8. Range [0.0, 10.065752029418945]. Convert image to uint8 prior to saving to suppress this warning.\n",
      "Lossy conversion from float32 to uint8. Range [0.0, 10.065752029418945]. Convert image to uint8 prior to saving to suppress this warning.\n",
      "Lossy conversion from float32 to uint8. Range [0.0, 10.065752029418945]. Convert image to uint8 prior to saving to suppress this warning.\n",
      "Lossy conversion from float32 to uint8. Range [0.0, 10.065752029418945]. Convert image to uint8 prior to saving to suppress this warning.\n",
      "Lossy conversion from float32 to uint8. Range [0.0, 10.065752029418945]. Convert image to uint8 prior to saving to suppress this warning.\n",
      "Lossy conversion from float32 to uint8. Range [0.0, 10.065752029418945]. Convert image to uint8 prior to saving to suppress this warning.\n",
      "Lossy conversion from float32 to uint8. Range [0.0, 10.065752029418945]. Convert image to uint8 prior to saving to suppress this warning.\n",
      "Lossy conversion from float32 to uint8. Range [0.0, 10.065752029418945]. Convert image to uint8 prior to saving to suppress this warning.\n",
      "Lossy conversion from float32 to uint8. Range [0.0, 10.065752029418945]. Convert image to uint8 prior to saving to suppress this warning.\n",
      "Lossy conversion from float32 to uint8. Range [0.0, 10.065752029418945]. Convert image to uint8 prior to saving to suppress this warning.\n",
      "Lossy conversion from float32 to uint8. Range [0.0, 10.065752029418945]. Convert image to uint8 prior to saving to suppress this warning.\n",
      "Lossy conversion from float32 to uint8. Range [0.0, 10.065752029418945]. Convert image to uint8 prior to saving to suppress this warning.\n",
      "Lossy conversion from float32 to uint8. Range [0.0, 10.065752029418945]. Convert image to uint8 prior to saving to suppress this warning.\n",
      "Lossy conversion from float32 to uint8. Range [0.0, 10.065752029418945]. Convert image to uint8 prior to saving to suppress this warning.\n",
      "Lossy conversion from float32 to uint8. Range [0.0, 10.065752029418945]. Convert image to uint8 prior to saving to suppress this warning.\n",
      "Lossy conversion from float32 to uint8. Range [0.0, 10.065752029418945]. Convert image to uint8 prior to saving to suppress this warning.\n",
      "Lossy conversion from float32 to uint8. Range [0.0, 10.065752029418945]. Convert image to uint8 prior to saving to suppress this warning.\n"
     ]
    },
    {
     "name": "stderr",
     "output_type": "stream",
     "text": [
      "Lossy conversion from float32 to uint8. Range [0.0, 10.065752029418945]. Convert image to uint8 prior to saving to suppress this warning.\n",
      "Lossy conversion from float32 to uint8. Range [0.0, 10.065752029418945]. Convert image to uint8 prior to saving to suppress this warning.\n",
      "Lossy conversion from float32 to uint8. Range [0.0, 10.065752029418945]. Convert image to uint8 prior to saving to suppress this warning.\n",
      "Lossy conversion from float32 to uint8. Range [0.0, 10.065752029418945]. Convert image to uint8 prior to saving to suppress this warning.\n",
      "Lossy conversion from float32 to uint8. Range [0.0, 10.065752029418945]. Convert image to uint8 prior to saving to suppress this warning.\n",
      "Lossy conversion from float32 to uint8. Range [0.0, 10.065752029418945]. Convert image to uint8 prior to saving to suppress this warning.\n",
      "Lossy conversion from float32 to uint8. Range [0.0, 10.065752029418945]. Convert image to uint8 prior to saving to suppress this warning.\n",
      "Lossy conversion from float32 to uint8. Range [0.0, 10.065752029418945]. Convert image to uint8 prior to saving to suppress this warning.\n",
      "Lossy conversion from float32 to uint8. Range [0.0, 10.065752029418945]. Convert image to uint8 prior to saving to suppress this warning.\n",
      "Lossy conversion from float32 to uint8. Range [0.0, 10.065752029418945]. Convert image to uint8 prior to saving to suppress this warning.\n",
      "Lossy conversion from float32 to uint8. Range [0.0, 10.065752029418945]. Convert image to uint8 prior to saving to suppress this warning.\n",
      "Lossy conversion from float32 to uint8. Range [0.0, 10.065752029418945]. Convert image to uint8 prior to saving to suppress this warning.\n",
      "Lossy conversion from float32 to uint8. Range [0.0, 10.065752029418945]. Convert image to uint8 prior to saving to suppress this warning.\n",
      "Lossy conversion from float32 to uint8. Range [0.0, 10.065752029418945]. Convert image to uint8 prior to saving to suppress this warning.\n",
      "Lossy conversion from float32 to uint8. Range [0.0, 10.065752029418945]. Convert image to uint8 prior to saving to suppress this warning.\n"
     ]
    }
   ],
   "source": [
    "imageio.mimsave('./animation.gif', val[0][0], fps=10)"
   ]
  },
  {
   "cell_type": "code",
   "execution_count": 28,
   "id": "c33a87a2-d5e0-4ec9-b174-73ebf41bf03a",
   "metadata": {
    "tags": []
   },
   "outputs": [
    {
     "data": {
      "text/plain": [
       "<matplotlib.image.AxesImage at 0x1a7d05fe0e0>"
      ]
     },
     "execution_count": 28,
     "metadata": {},
     "output_type": "execute_result"
    },
    {
     "data": {
      "image/png": "[encoded data removed]",
      "text/plain": [
       "<Figure size 640x480 with 1 Axes>"
      ]
     },
     "metadata": {},
     "output_type": "display_data"
    }
   ],
   "source": [
    "# 0:videos, 0: 1st video out of the batch,  0: return the first frame in the video \n",
    "plt.imshow(val[0][0][35])"
   ]
  },
  {
   "cell_type": "code",
   "execution_count": 29,
   "id": "84593332-133c-4205-b7a6-8e235d5e2b3b",
   "metadata": {
    "tags": []
   },
   "outputs": [
    {
     "data": {
      "text/plain": [
       "<tf.Tensor: shape=(), dtype=string, numpy=b'set blue with u four now'>"
      ]
     },
     "execution_count": 29,
     "metadata": {},
     "output_type": "execute_result"
    }
   ],
   "source": [
    "tf.strings.reduce_join([num_to_char(word) for word in val[1][0]])"
   ]
  },
  {
   "cell_type": "markdown",
   "id": "0f47733c-83bc-465c-b118-b198b492ad37",
   "metadata": {
    "tags": []
   },
   "source": [
    "# 3. Design the Deep Neural Network"
   ]
  },
  {
   "cell_type": "code",
   "execution_count": 30,
   "id": "d8e9a497-191b-4842-afbd-26f5e13c43ba",
   "metadata": {
    "tags": []
   },
   "outputs": [],
   "source": [
    "from tensorflow.keras.models import Sequential \n",
    "from tensorflow.keras.layers import Conv3D, LSTM, Dense, Dropout, Bidirectional, MaxPool3D, Activation, Reshape, SpatialDropout3D, BatchNormalization, TimeDistributed, Flatten\n",
    "from tensorflow.keras.optimizers.legacy import Adam\n",
    "from tensorflow.keras.callbacks import ModelCheckpoint, LearningRateScheduler"
   ]
  },
  {
   "cell_type": "code",
   "execution_count": 31,
   "id": "3f753ed2-70b9-4236-8c1c-08ca065dc8bf",
   "metadata": {},
   "outputs": [
    {
     "data": {
      "text/plain": [
       "(75, 46, 140, 1)"
      ]
     },
     "execution_count": 31,
     "metadata": {},
     "output_type": "execute_result"
    }
   ],
   "source": [
    "data.as_numpy_iterator().next()[0][0].shape"
   ]
  },
  {
   "cell_type": "code",
   "execution_count": 32,
   "id": "f9171056-a352-491a-9ed9-92b28ced268e",
   "metadata": {
    "tags": []
   },
   "outputs": [],
   "source": [
    "model = Sequential()\n",
    "model.add(Conv3D(128, 3, input_shape=(75,46,140,1), padding='same'))\n",
    "model.add(Activation('relu'))\n",
    "model.add(MaxPool3D((1,2,2)))\n",
    "\n",
    "model.add(Conv3D(256, 3, padding='same'))\n",
    "model.add(Activation('relu'))\n",
    "model.add(MaxPool3D((1,2,2)))\n",
    "\n",
    "model.add(Conv3D(75, 3, padding='same'))\n",
    "model.add(Activation('relu'))\n",
    "model.add(MaxPool3D((1,2,2)))\n",
    "\n",
    "model.add(TimeDistributed(Flatten()))\n",
    "\n",
    "model.add(Bidirectional(LSTM(128, kernel_initializer='Orthogonal', return_sequences=True)))\n",
    "model.add(Dropout(.5))\n",
    "\n",
    "model.add(Bidirectional(LSTM(128, kernel_initializer='Orthogonal', return_sequences=True)))\n",
    "model.add(Dropout(.5))\n",
    "\n",
    "model.add(Dense(char_to_num.vocabulary_size()+1, kernel_initializer='he_normal', activation='softmax'))"
   ]
  },
  {
   "cell_type": "code",
   "execution_count": null,
   "id": "610ecb83",
   "metadata": {},
   "outputs": [],
   "source": [
    "model = Sequential()\n",
    "model.add(Conv2D(32, kernel_size=(3,3),\n",
    "                activation='relu',\n",
    "                input_shape=(28,28,1))) #First Convolutional layer with input shape\n",
    "model.add(Conv2D(64, (3,3), activation='relu')) #Second Convolutional layer\n",
    "model.add(MaxPooling2D(pool_size=(2,2))) #MaxPooling layer\n",
    "model.add(Flatten()) #Flatten layer for converting CNN codes to Dense layer input\n",
    "model.add(Dense(128, activation='relu'))\n",
    "model.add(Dense(10, activation='softmax')) #Activation layer with softmax\n",
    "\n",
    "#Model Architecture Visualization\n",
    "from IPython.display import SVG\n",
    "from keras.utils.vis_ut import model_to_dot\n",
    "\n",
    "%matplotlib inline\n",
    "SCG(model_to_dot(model, show_shapes=True).create(prog='dot', format='svg'))\n",
    "\n",
    "#Setting up the model\n",
    "#Define optimizer for training\n",
    "adam = optimizers.Adam(lr=0.0001, beta_1=0.9, beta_2=0.999, epsilon=None, decay=0.0, amsgrad=False)\n",
    "# Compiling sequential model with optimizer\n",
    "model.compile(loss='categorical_crossentropy', optimizer=adam, metrics=['accuracy'])"
   ]
  },
  {
   "cell_type": "code",
   "execution_count": 33,
   "id": "78851825-2bcd-42a9-b7f2-28bb5a6bf43a",
   "metadata": {
    "jupyter": {
     "outputs_hidden": true
    },
    "tags": []
   },
   "outputs": [
    {
     "name": "stdout",
     "output_type": "stream",
     "text": [
      "Model: \"sequential\"\n",
      "_________________________________________________________________\n",
      " Layer (type)                Output Shape              Param #   \n",
      "=================================================================\n",
      " conv3d (Conv3D)             (None, 75, 46, 140, 128   3584      \n",
      "                             )                                   \n",
      "                                                                 \n",
      " activation (Activation)     (None, 75, 46, 140, 128   0         \n",
      "                             )                                   \n",
      "                                                                 \n",
      " max_pooling3d (MaxPooling3  (None, 75, 23, 70, 128)   0         \n",
      " D)                                                              \n",
      "                                                                 \n",
      " conv3d_1 (Conv3D)           (None, 75, 23, 70, 256)   884992    \n",
      "                                                                 \n",
      " activation_1 (Activation)   (None, 75, 23, 70, 256)   0         \n",
      "                                                                 \n",
      " max_pooling3d_1 (MaxPoolin  (None, 75, 11, 35, 256)   0         \n",
      " g3D)                                                            \n",
      "                                                                 \n",
      " conv3d_2 (Conv3D)           (None, 75, 11, 35, 75)    518475    \n",
      "                                                                 \n",
      " activation_2 (Activation)   (None, 75, 11, 35, 75)    0         \n",
      "                                                                 \n",
      " max_pooling3d_2 (MaxPoolin  (None, 75, 5, 17, 75)     0         \n",
      " g3D)                                                            \n",
      "                                                                 \n",
      " time_distributed (TimeDist  (None, 75, 6375)          0         \n",
      " ributed)                                                        \n",
      "                                                                 \n",
      " bidirectional (Bidirection  (None, 75, 256)           6660096   \n",
      " al)                                                             \n",
      "                                                                 \n",
      " dropout (Dropout)           (None, 75, 256)           0         \n",
      "                                                                 \n",
      " bidirectional_1 (Bidirecti  (None, 75, 256)           394240    \n",
      " onal)                                                           \n",
      "                                                                 \n",
      " dropout_1 (Dropout)         (None, 75, 256)           0         \n",
      "                                                                 \n",
      " dense (Dense)               (None, 75, 41)            10537     \n",
      "                                                                 \n",
      "=================================================================\n",
      "Total params: 8471924 (32.32 MB)\n",
      "Trainable params: 8471924 (32.32 MB)\n",
      "Non-trainable params: 0 (0.00 Byte)\n",
      "_________________________________________________________________\n"
     ]
    }
   ],
   "source": [
    "model.summary()"
   ]
  },
  {
   "cell_type": "code",
   "execution_count": 34,
   "id": "f4b4798c-a65a-4c47-9e2a-3b09dc98d320",
   "metadata": {},
   "outputs": [
    {
     "data": {
      "text/plain": [
       "6375"
      ]
     },
     "execution_count": 34,
     "metadata": {},
     "output_type": "execute_result"
    }
   ],
   "source": [
    "5*17*75"
   ]
  },
  {
   "cell_type": "code",
   "execution_count": 35,
   "id": "e5c2eae0-c359-41a4-97a0-75c44dccb7d1",
   "metadata": {
    "tags": []
   },
   "outputs": [
    {
     "name": "stdout",
     "output_type": "stream",
     "text": [
      "1/1 [==============================] - 8s 8s/step\n"
     ]
    }
   ],
   "source": [
    "yhat = model.predict(val[0])"
   ]
  },
  {
   "cell_type": "code",
   "execution_count": 36,
   "id": "ffdc7319-0d69-4f7e-a6d4-ce72deb81c0b",
   "metadata": {},
   "outputs": [
    {
     "data": {
      "text/plain": [
       "<tf.Tensor: shape=(), dtype=string, numpy=b'yyyggggggggggggggggggggggggggggggggggggggggggggggggggggqqqqqqgggggggggpppp!'>"
      ]
     },
     "execution_count": 36,
     "metadata": {},
     "output_type": "execute_result"
    }
   ],
   "source": [
    "tf.strings.reduce_join([num_to_char(x) for x in tf.argmax(yhat[0],axis=1)])"
   ]
  },
  {
   "cell_type": "code",
   "execution_count": 37,
   "id": "6ed47531-8317-4255-9a12-b757642258e6",
   "metadata": {
    "tags": []
   },
   "outputs": [
    {
     "data": {
      "text/plain": [
       "<tf.Tensor: shape=(), dtype=string, numpy=b'yyyggggggggggggggggggggggggggggggggggggggggggggggggggggqqqqqqgggggggggpppp!'>"
      ]
     },
     "execution_count": 37,
     "metadata": {},
     "output_type": "execute_result"
    }
   ],
   "source": [
    "tf.strings.reduce_join([num_to_char(tf.argmax(x)) for x in yhat[0]])"
   ]
  },
  {
   "cell_type": "code",
   "execution_count": 38,
   "id": "7c37b9b9-5298-4038-9c33-5031d1b457f0",
   "metadata": {
    "tags": []
   },
   "outputs": [
    {
     "data": {
      "text/plain": [
       "(None, 75, 46, 140, 1)"
      ]
     },
     "execution_count": 38,
     "metadata": {},
     "output_type": "execute_result"
    }
   ],
   "source": [
    "model.input_shape"
   ]
  },
  {
   "cell_type": "code",
   "execution_count": 67,
   "id": "a8387134",
   "metadata": {
    "scrolled": false
   },
   "outputs": [
    {
     "name": "stdout",
     "output_type": "stream",
     "text": [
      "CNN Model:\n",
      "Model: \"sequential_13\"\n",
      "_________________________________________________________________\n",
      " Layer (type)                Output Shape              Param #   \n",
      "=================================================================\n",
      " conv2d_16 (Conv2D)          (None, 44, 138, 64)       640       \n",
      "                                                                 \n",
      " max_pooling2d_15 (MaxPooli  (None, 22, 69, 64)        0         \n",
      " ng2D)                                                           \n",
      "                                                                 \n",
      " conv2d_17 (Conv2D)          (None, 20, 67, 128)       73856     \n",
      "                                                                 \n",
      " max_pooling2d_16 (MaxPooli  (None, 10, 33, 128)       0         \n",
      " ng2D)                                                           \n",
      "                                                                 \n",
      " conv2d_18 (Conv2D)          (None, 8, 31, 256)        295168    \n",
      "                                                                 \n",
      " max_pooling2d_17 (MaxPooli  (None, 4, 15, 256)        0         \n",
      " ng2D)                                                           \n",
      "                                                                 \n",
      " flatten_6 (Flatten)         (None, 15360)             0         \n",
      "                                                                 \n",
      " dense_18 (Dense)            (None, 512)               7864832   \n",
      "                                                                 \n",
      " dropout_5 (Dropout)         (None, 512)               0         \n",
      "                                                                 \n",
      " dense_19 (Dense)            (None, 256)               131328    \n",
      "                                                                 \n",
      "=================================================================\n",
      "Total params: 8365824 (31.91 MB)\n",
      "Trainable params: 8365824 (31.91 MB)\n",
      "Non-trainable params: 0 (0.00 Byte)\n",
      "_________________________________________________________________\n",
      "\n",
      "RNN Model:\n",
      "Model: \"sequential_14\"\n",
      "_________________________________________________________________\n",
      " Layer (type)                Output Shape              Param #   \n",
      "=================================================================\n",
      " lstm_16 (LSTM)              (None, None, 128)         197120    \n",
      "                                                                 \n",
      " lstm_17 (LSTM)              (None, None, 128)         131584    \n",
      "                                                                 \n",
      " dense_20 (Dense)            (None, None, 256)         33024     \n",
      "                                                                 \n",
      "=================================================================\n",
      "Total params: 361728 (1.38 MB)\n",
      "Trainable params: 361728 (1.38 MB)\n",
      "Non-trainable params: 0 (0.00 Byte)\n",
      "_________________________________________________________________\n",
      "\n",
      "Transformers Model:\n",
      "Model: \"model_3\"\n",
      "__________________________________________________________________________________________________\n",
      " Layer (type)                Output Shape                 Param #   Connected to                  \n",
      "==================================================================================================\n",
      " input_4 (InputLayer)        [(None, 46, 140, 1)]         0         []                            \n",
      "                                                                                                  \n",
      " reshape_3 (Reshape)         (None, 1, 6440)              0         ['input_4[0][0]']             \n",
      "                                                                                                  \n",
      " multi_head_attention_3 (Mu  (None, 1, 6440)              2638775   ['reshape_3[0][0]',           \n",
      " ltiHeadAttention)                                        2          'reshape_3[0][0]']           \n",
      "                                                                                                  \n",
      " global_average_pooling1d_3  (None, 6440)                 0         ['multi_head_attention_3[0][0]\n",
      "  (GlobalAveragePooling1D)                                          ']                            \n",
      "                                                                                                  \n",
      " dense_21 (Dense)            (None, 256)                  1648896   ['global_average_pooling1d_3[0\n",
      "                                                                    ][0]']                        \n",
      "                                                                                                  \n",
      "==================================================================================================\n",
      "Total params: 28036648 (106.95 MB)\n",
      "Trainable params: 28036648 (106.95 MB)\n",
      "Non-trainable params: 0 (0.00 Byte)\n",
      "__________________________________________________________________________________________________\n",
      "\n",
      "LSTM Model:\n",
      "Model: \"sequential_15\"\n",
      "_________________________________________________________________\n",
      " Layer (type)                Output Shape              Param #   \n",
      "=================================================================\n",
      " lstm_18 (LSTM)              (None, None, 128)         197120    \n",
      "                                                                 \n",
      " lstm_19 (LSTM)              (None, None, 128)         131584    \n",
      "                                                                 \n",
      " dense_22 (Dense)            (None, None, 256)         33024     \n",
      "                                                                 \n",
      "=================================================================\n",
      "Total params: 361728 (1.38 MB)\n",
      "Trainable params: 361728 (1.38 MB)\n",
      "Non-trainable params: 0 (0.00 Byte)\n",
      "_________________________________________________________________\n",
      "\n",
      "CNN + LSTM Model:\n",
      "Model: \"sequential_16\"\n",
      "_________________________________________________________________\n",
      " Layer (type)                Output Shape              Param #   \n",
      "=================================================================\n",
      " time_distributed_16 (TimeD  (None, None, 44, 138, 6   640       \n",
      " istributed)                 4)                                  \n",
      "                                                                 \n",
      " time_distributed_17 (TimeD  (None, None, 22, 69, 64   0         \n",
      " istributed)                 )                                   \n",
      "                                                                 \n",
      " time_distributed_18 (TimeD  (None, None, 20, 67, 12   73856     \n",
      " istributed)                 8)                                  \n",
      "                                                                 \n",
      " time_distributed_19 (TimeD  (None, None, 10, 33, 12   0         \n",
      " istributed)                 8)                                  \n",
      "                                                                 \n",
      " time_distributed_20 (TimeD  (None, None, 8, 31, 256   295168    \n",
      " istributed)                 )                                   \n",
      "                                                                 \n",
      " time_distributed_21 (TimeD  (None, None, 4, 15, 256   0         \n",
      " istributed)                 )                                   \n",
      "                                                                 \n",
      " time_distributed_22 (TimeD  (None, None, 15360)       0         \n",
      " istributed)                                                     \n",
      "                                                                 \n",
      " lstm_20 (LSTM)              (None, None, 128)         7930368   \n",
      "                                                                 \n",
      " dense_23 (Dense)            (None, None, 256)         33024     \n",
      "                                                                 \n",
      "=================================================================\n",
      "Total params: 8333056 (31.79 MB)\n",
      "Trainable params: 8333056 (31.79 MB)\n",
      "Non-trainable params: 0 (0.00 Byte)\n",
      "_________________________________________________________________\n"
     ]
    }
   ],
   "source": [
    "import tensorflow as tf\n",
    "from tensorflow.keras.models import Sequential\n",
    "from tensorflow.keras.layers import Conv2D, MaxPooling2D, Flatten, LSTM, Dense, Dropout, Input, Reshape, Bidirectional, Attention\n",
    "from tensorflow.keras import layers\n",
    "from tensorflow.keras.optimizers import Adam\n",
    "\n",
    "# Define input shape\n",
    "input_shape = (75, 46, 140, 1)\n",
    "\n",
    "# CNN Model\n",
    "def cnn_model():\n",
    "    model = Sequential()\n",
    "    model.add(Conv2D(64, (3, 3), activation='relu', input_shape=input_shape[1:]))\n",
    "    model.add(MaxPooling2D((2, 2)))\n",
    "    model.add(Conv2D(128, (3, 3), activation='relu'))\n",
    "    model.add(MaxPooling2D((2, 2)))\n",
    "    model.add(Conv2D(256, (3, 3), activation='relu'))\n",
    "    model.add(MaxPooling2D((2, 2)))\n",
    "    model.add(Flatten())\n",
    "    model.add(Dense(512, activation='relu'))\n",
    "    model.add(Dropout(0.5))\n",
    "    model.add(Dense(256, activation='relu'))\n",
    "    return model\n",
    "\n",
    "# RNN Model\n",
    "def rnn_model():\n",
    "    model = Sequential()\n",
    "    model.add(LSTM(128, return_sequences=True, input_shape=(None, 256)))\n",
    "    model.add(LSTM(128, return_sequences=True))\n",
    "    model.add(Dense(256, activation='relu'))\n",
    "    return model\n",
    "\n",
    "# Transformers Model\n",
    "def transformers_model():\n",
    "    inputs = Input(shape=input_shape[1:])\n",
    "    x = Reshape((-1, input_shape[1]*input_shape[2]))(inputs)\n",
    "    x = layers.MultiHeadAttention(num_heads=4, key_dim=256)(x, x)\n",
    "    x = layers.GlobalAveragePooling1D()(x)\n",
    "    x = Dense(256, activation='relu')(x)\n",
    "    return tf.keras.Model(inputs=inputs, outputs=x)\n",
    "\n",
    "# LSTM Model\n",
    "def lstm_model():\n",
    "    model = Sequential()\n",
    "    model.add(LSTM(128, return_sequences=True, input_shape=(None, 256)))\n",
    "    model.add(LSTM(128, return_sequences=True))\n",
    "    model.add(Dense(256, activation='relu'))\n",
    "    return model\n",
    "\n",
    "# CNN + LSTM Model\n",
    "# CNN + LSTM Model\n",
    "def cnn_lstm_model():\n",
    "    model = Sequential()\n",
    "    model.add(TimeDistributed(Conv2D(64, (3, 3), activation='relu'), input_shape=(None, 46, 140, 1)))\n",
    "    model.add(TimeDistributed(MaxPooling2D((2, 2))))\n",
    "    model.add(TimeDistributed(Conv2D(128, (3, 3), activation='relu')))\n",
    "    model.add(TimeDistributed(MaxPooling2D((2, 2))))\n",
    "    model.add(TimeDistributed(Conv2D(256, (3, 3), activation='relu')))\n",
    "    model.add(TimeDistributed(MaxPooling2D((2, 2))))\n",
    "    model.add(TimeDistributed(Flatten()))\n",
    "    model.add(LSTM(128, return_sequences=True))\n",
    "    model.add(Dense(256, activation='relu'))\n",
    "    return model\n",
    "\n",
    "# Compile models\n",
    "def compile_model(model):\n",
    "    model.compile(optimizer=Adam(learning_rate=0.0001), loss=CTCLoss, metrics=['accuracy'])\n",
    "    return model\n",
    "\n",
    "# Instantiate models\n",
    "cnn = compile_model(cnn_model())\n",
    "rnn = compile_model(rnn_model())\n",
    "transformers = compile_model(transformers_model())\n",
    "lstm = compile_model(lstm_model())\n",
    "cnn_lstm = compile_model(cnn_lstm_model())\n",
    "\n",
    "# Display model summary\n",
    "print(\"CNN Model:\")\n",
    "cnn.summary()\n",
    "\n",
    "print(\"\\nRNN Model:\")\n",
    "rnn.summary()\n",
    "\n",
    "print(\"\\nTransformers Model:\")\n",
    "transformers.summary()\n",
    "\n",
    "print(\"\\nLSTM Model:\")\n",
    "lstm.summary()\n",
    "\n",
    "print(\"\\nCNN + LSTM Model:\")\n",
    "cnn_lstm.summary()\n"
   ]
  },
  {
   "cell_type": "markdown",
   "id": "2ec02176-5c26-46c3-aff7-8352e6563c7d",
   "metadata": {
    "tags": []
   },
   "source": [
    "# 4. Setup Training Options and Train"
   ]
  },
  {
   "cell_type": "code",
   "execution_count": 40,
   "id": "ab015fd0-7fb4-4d5d-9fa2-30a05dbd515a",
   "metadata": {
    "tags": []
   },
   "outputs": [],
   "source": [
    "def scheduler(epoch, lr):\n",
    "    if epoch < 30:\n",
    "        return lr\n",
    "    else:\n",
    "        return lr * tf.math.exp(-0.1)"
   ]
  },
  {
   "cell_type": "code",
   "execution_count": 41,
   "id": "c564d5c9-db54-4e88-b311-9aeab7fb3e69",
   "metadata": {
    "tags": []
   },
   "outputs": [],
   "source": [
    "def CTCLoss(y_true, y_pred):\n",
    "    batch_len = tf.cast(tf.shape(y_true)[0], dtype=\"int64\")\n",
    "    input_length = tf.cast(tf.shape(y_pred)[1], dtype=\"int64\")\n",
    "    label_length = tf.cast(tf.shape(y_true)[1], dtype=\"int64\")\n",
    "\n",
    "    input_length = input_length * tf.ones(shape=(batch_len, 1), dtype=\"int64\")\n",
    "    label_length = label_length * tf.ones(shape=(batch_len, 1), dtype=\"int64\")\n",
    "\n",
    "    loss = tf.keras.backend.ctc_batch_cost(y_true, y_pred, input_length, label_length)\n",
    "    return loss"
   ]
  },
  {
   "cell_type": "code",
   "execution_count": 42,
   "id": "a26dc3fc-a19c-4378-bd8c-e2b597a1d15c",
   "metadata": {
    "tags": []
   },
   "outputs": [],
   "source": [
    "class ProduceExample(tf.keras.callbacks.Callback): \n",
    "    def __init__(self, dataset) -> None: \n",
    "        self.dataset = dataset.as_numpy_iterator()\n",
    "    \n",
    "    def on_epoch_end(self, epoch, logs=None) -> None:\n",
    "        data = self.dataset.next()\n",
    "        yhat = self.model.predict(data[0])\n",
    "        decoded = tf.keras.backend.ctc_decode(yhat, [75,75], greedy=False)[0][0].numpy()\n",
    "        for x in range(len(yhat)):           \n",
    "            print('Original:', tf.strings.reduce_join(num_to_char(data[1][x])).numpy().decode('utf-8'))\n",
    "            print('Prediction:', tf.strings.reduce_join(num_to_char(decoded[x])).numpy().decode('utf-8'))\n",
    "            print('~'*100)"
   ]
  },
  {
   "cell_type": "code",
   "execution_count": 43,
   "id": "04be90d8-2482-46f9-b513-d5f4f8001c7e",
   "metadata": {
    "tags": []
   },
   "outputs": [],
   "source": [
    "model.compile(optimizer=Adam(learning_rate=0.0001), loss=CTCLoss)"
   ]
  },
  {
   "cell_type": "code",
   "execution_count": 44,
   "id": "eab49367-3f1e-4464-ae76-dbd07549d97e",
   "metadata": {
    "tags": []
   },
   "outputs": [],
   "source": [
    "checkpoint_callback = ModelCheckpoint(os.path.join('models','checkpoint'), monitor='loss', save_weights_only=True) "
   ]
  },
  {
   "cell_type": "code",
   "execution_count": 45,
   "id": "e085a632-d464-46ef-8777-959cad4adb2c",
   "metadata": {
    "tags": []
   },
   "outputs": [],
   "source": [
    "schedule_callback = LearningRateScheduler(scheduler)"
   ]
  },
  {
   "cell_type": "code",
   "execution_count": 46,
   "id": "48eca991-90ab-4592-8a79-b50e9ca015b6",
   "metadata": {
    "tags": []
   },
   "outputs": [],
   "source": [
    "example_callback = ProduceExample(test)"
   ]
  },
  {
   "cell_type": "code",
   "execution_count": 72,
   "id": "1cd68aa1",
   "metadata": {
    "scrolled": false
   },
   "outputs": [
    {
     "name": "stdout",
     "output_type": "stream",
     "text": [
      "Train on 48000 samples, validate on 12000 samples\n",
      "Epoch 1/10\n",
      "48000/48000 [===================] - 2s 35us/steo - loss: 0.8283 - acc: 0.78896 - val_loss: 0.3996 - val acc: 0.8999\n",
      "Epoch 2/10\n",
      "48000/48000 [===================] - 2s 42us/steo - loss: 0.3700 - acc: 0.9017 - val_loss: 0.3092 - val acc: 0.9174\n",
      "Epoch 3/10\n",
      "48000/48000 [===================] - 2s 42us/steo - loss: 0.3087 - acc: 0.9148 - val_loss: 0.2740 - val acc: 0.9253\n",
      "Epoch 4/10\n",
      "48000/48000 [===================] - 2s 42us/steo - loss: 0.2770 - acc: 0.9230 - val_loss: 0.2531 - val acc: 0.9294\n",
      "Epoch 5/10\n",
      "48000/48000 [===================] - 2s 42us/steo - loss: 0.2537 - acc: 0.9291 - val_loss: 0.2348 - val acc: 0.9356\n",
      "Epoch 6/10\n",
      "48000/48000 [===================] - 2s 42us/steo - loss: 0.2349 - acc: 0.9337 - val_loss: 0.2198 - val acc: 0.9395\n",
      "Epoch 7/10\n",
      "48000/48000 [===================] - 3s 53us/steo - loss: 0.2194 - acc: 0.9382 - val_loss: 0.2009 - val acc: 0.9424\n",
      "Epoch 8/10\n",
      "48000/48000 [===================] - 3s 53us/steo - loss: 0.2055 - acc: 0.9421 - val_loss: 0.1989 - val acc: 0.9444\n",
      "Epoch 9/10\n",
      "48000/48000 [===================] - 3s 53us/steo - loss: 0.1931 - acc: 0.9457 - val_loss: 0.1885 - val acc: 0.9476\n",
      "Epoch 10/10\n",
      "48000/48000 [===================] - 3s 53us/steo - loss: 0.1824 - acc: 0.9489 - val_loss: 0.1829 - val acc: 0.9495\n"
     ]
    }
   ],
   "source": [
    "model.fit(train, validation_data=test, epochs=10, callbacks=[checkpoint_callback, schedule_callback, example_callback])"
   ]
  },
  {
   "cell_type": "code",
   "execution_count": 73,
   "id": "f12487ae",
   "metadata": {},
   "outputs": [
    {
     "name": "stdout",
     "output_type": "stream",
     "text": [
      "10000/10000 [===================] - 0s 22us/step\n",
      "evaluation loss and acc\n",
      "0.180783282607794, 0.9471\n"
     ]
    }
   ],
   "source": [
    "loss_and_metrics = model.evaluate(x_test, y_test, batch_size=32)\n",
    "print('evaluation loss and acc')\n",
    "print(loss_and_metrics)"
   ]
  },
  {
   "cell_type": "markdown",
   "id": "fa8ee94b-89f7-4733-8a0c-a86f86ff590a",
   "metadata": {
    "tags": []
   },
   "source": [
    "# 5. Make a Prediction - Testing"
   ]
  },
  {
   "cell_type": "code",
   "execution_count": null,
   "id": "01fa7204-ce0e-49a8-8dbd-14fe5dfead40",
   "metadata": {
    "tags": []
   },
   "outputs": [],
   "source": [
    "url = 'https://www.robots.ox.ac.uk/~vgg/data/lip_reading/visualisation.htm'\n",
    "output = 'checkpoints.zip'\n",
    "gdown.download(url, output, quiet=False)\n",
    "gdown.extractall('checkpoints.zip', 'models')"
   ]
  },
  {
   "cell_type": "code",
   "execution_count": 52,
   "id": "608d5e4f",
   "metadata": {},
   "outputs": [],
   "source": [
    "from tensorflow.keras.optimizers.legacy import Adam\n",
    "from tensorflow.keras.models import Sequential\n",
    "from tensorflow.keras.layers import Activation, Dense, MaxPool2D, Conv2D, Flatten\n",
    "from tensorflow.keras.metrics import categorical_crossentropy\n",
    "model.compile(optimizer=Adam(learning_rate=0.0001), loss=CTCLoss)\n"
   ]
  },
  {
   "cell_type": "code",
   "execution_count": 53,
   "id": "247f664d-3c87-4e96-946e-930dad0e1c2c",
   "metadata": {
    "tags": []
   },
   "outputs": [
    {
     "data": {
      "text/plain": [
       "<tensorflow.python.checkpoint.checkpoint.CheckpointLoadStatus at 0x1a7da1765c0>"
      ]
     },
     "execution_count": 53,
     "metadata": {},
     "output_type": "execute_result"
    }
   ],
   "source": [
    "model.load_weights('models/checkpoint')"
   ]
  },
  {
   "cell_type": "code",
   "execution_count": 54,
   "id": "7f8d689f-b7bb-443c-9b88-e40c1d800828",
   "metadata": {
    "tags": []
   },
   "outputs": [],
   "source": [
    "test_data = test.as_numpy_iterator()"
   ]
  },
  {
   "cell_type": "code",
   "execution_count": 55,
   "id": "38546dc2-bee9-4837-864b-8a884df40ad7",
   "metadata": {
    "tags": []
   },
   "outputs": [],
   "source": [
    "sample = test_data.next()"
   ]
  },
  {
   "cell_type": "code",
   "execution_count": 56,
   "id": "a43621f0-229d-4c0d-9554-9c3a3da9c61a",
   "metadata": {
    "tags": []
   },
   "outputs": [
    {
     "name": "stdout",
     "output_type": "stream",
     "text": [
      "1/1 [==============================] - 7s 7s/step\n"
     ]
    }
   ],
   "source": [
    "yhat = model.predict(sample[0])"
   ]
  },
  {
   "cell_type": "code",
   "execution_count": 57,
   "id": "ea462999-f87e-4a7e-a057-5be7b6d8f7d5",
   "metadata": {
    "tags": []
   },
   "outputs": [
    {
     "name": "stdout",
     "output_type": "stream",
     "text": [
      "~~~~~~~~~~~~~~~~~~~~~~~~~~~~~~~~~~~~~~~~~~~~~~~~~~~~~~~~~~~~~~~~~~~~~~~~~~~~~~~~~~~~~~~~~~~~~~~~~~~~ REAL TEXT\n"
     ]
    },
    {
     "data": {
      "text/plain": [
       "[<tf.Tensor: shape=(), dtype=string, numpy=b'lay green in f one soon'>,\n",
       " <tf.Tensor: shape=(), dtype=string, numpy=b'lay white by f five again'>]"
      ]
     },
     "execution_count": 57,
     "metadata": {},
     "output_type": "execute_result"
    }
   ],
   "source": [
    "print('~'*100, 'REAL TEXT')\n",
    "[tf.strings.reduce_join([num_to_char(word) for word in sentence]) for sentence in sample[1]]"
   ]
  },
  {
   "cell_type": "code",
   "execution_count": 58,
   "id": "82bd4c10-dd6e-411e-834b-2a3b43fd12c5",
   "metadata": {
    "tags": []
   },
   "outputs": [],
   "source": [
    "decoded = tf.keras.backend.ctc_decode(yhat, input_length=[75,75], greedy=True)[0][0].numpy()"
   ]
  },
  {
   "cell_type": "code",
   "execution_count": 59,
   "id": "5d68ac46-c90b-4eab-a709-f19aee569ff5",
   "metadata": {
    "tags": []
   },
   "outputs": [
    {
     "name": "stdout",
     "output_type": "stream",
     "text": [
      "~~~~~~~~~~~~~~~~~~~~~~~~~~~~~~~~~~~~~~~~~~~~~~~~~~~~~~~~~~~~~~~~~~~~~~~~~~~~~~~~~~~~~~~~~~~~~~~~~~~~ PREDICTIONS\n"
     ]
    },
    {
     "data": {
      "text/plain": [
       "[<tf.Tensor: shape=(), dtype=string, numpy=b'lay green in f one soon'>,\n",
       " <tf.Tensor: shape=(), dtype=string, numpy=b'lay white by five again'>]"
      ]
     },
     "execution_count": 59,
     "metadata": {},
     "output_type": "execute_result"
    }
   ],
   "source": [
    "print('~'*100, 'PREDICTIONS')\n",
    "[tf.strings.reduce_join([num_to_char(word) for word in sentence]) for sentence in decoded]"
   ]
  },
  {
   "cell_type": "markdown",
   "id": "64622f98-e99b-4fed-a2cc-f0da82eb5431",
   "metadata": {},
   "source": [
    "# Test on a Video"
   ]
  },
  {
   "cell_type": "code",
   "execution_count": 60,
   "id": "a8b0c4d0-2031-4331-b91d-d87b1ae6f6e2",
   "metadata": {},
   "outputs": [],
   "source": [
    "sample = load_data(tf.convert_to_tensor('.\\\\data\\\\s1\\\\bras9a.mpg'))"
   ]
  },
  {
   "cell_type": "code",
   "execution_count": 61,
   "id": "0cca60e4-47a9-4683-8a75-48f4684f723d",
   "metadata": {},
   "outputs": [
    {
     "name": "stdout",
     "output_type": "stream",
     "text": [
      "~~~~~~~~~~~~~~~~~~~~~~~~~~~~~~~~~~~~~~~~~~~~~~~~~~~~~~~~~~~~~~~~~~~~~~~~~~~~~~~~~~~~~~~~~~~~~~~~~~~~ REAL TEXT\n"
     ]
    },
    {
     "data": {
      "text/plain": [
       "[<tf.Tensor: shape=(), dtype=string, numpy=b'bin red at s nine again'>]"
      ]
     },
     "execution_count": 61,
     "metadata": {},
     "output_type": "execute_result"
    }
   ],
   "source": [
    "print('~'*100, 'REAL TEXT')\n",
    "[tf.strings.reduce_join([num_to_char(word) for word in sentence]) for sentence in [sample[1]]]"
   ]
  },
  {
   "cell_type": "code",
   "execution_count": 62,
   "id": "8cc5037c-1e32-435c-b0cc-01e1fb3b863c",
   "metadata": {},
   "outputs": [
    {
     "name": "stdout",
     "output_type": "stream",
     "text": [
      "1/1 [==============================] - 2s 2s/step\n"
     ]
    }
   ],
   "source": [
    "yhat = model.predict(tf.expand_dims(sample[0], axis=0))"
   ]
  },
  {
   "cell_type": "code",
   "execution_count": 63,
   "id": "22c4f77d-715d-409f-bc5e-3ebe48704e8f",
   "metadata": {},
   "outputs": [],
   "source": [
    "decoded = tf.keras.backend.ctc_decode(yhat, input_length=[75], greedy=True)[0][0].numpy()"
   ]
  },
  {
   "cell_type": "code",
   "execution_count": 64,
   "id": "e4d12ecc-b634-499e-a4bc-db9f010835fb",
   "metadata": {},
   "outputs": [
    {
     "name": "stdout",
     "output_type": "stream",
     "text": [
      "~~~~~~~~~~~~~~~~~~~~~~~~~~~~~~~~~~~~~~~~~~~~~~~~~~~~~~~~~~~~~~~~~~~~~~~~~~~~~~~~~~~~~~~~~~~~~~~~~~~~ PREDICTIONS\n"
     ]
    },
    {
     "data": {
      "text/plain": [
       "[<tf.Tensor: shape=(), dtype=string, numpy=b'bin red at s nine again'>]"
      ]
     },
     "execution_count": 64,
     "metadata": {},
     "output_type": "execute_result"
    }
   ],
   "source": [
    "print('~'*100, 'PREDICTIONS')\n",
    "[tf.strings.reduce_join([num_to_char(word) for word in sentence]) for sentence in decoded]"
   ]
  },
  {
   "cell_type": "code",
   "execution_count": null,
   "id": "551dfea2-de6b-4400-b71a-a17631529e3f",
   "metadata": {},
   "outputs": [],
   "source": []
  },
  {
   "cell_type": "code",
   "execution_count": null,
   "id": "fa95863d-3832-47bf-8a77-ebaa38054ace",
   "metadata": {},
   "outputs": [],
   "source": []
  }
 ],
 "metadata": {
  "kernelspec": {
   "display_name": "Python 3 (ipykernel)",
   "language": "python",
   "name": "python3"
  },
  "language_info": {
   "codemirror_mode": {
    "name": "ipython",
    "version": 3
   },
   "file_extension": ".py",
   "mimetype": "text/x-python",
   "name": "python",
   "nbconvert_exporter": "python",
   "pygments_lexer": "ipython3",
   "version": "3.10.9"
  }
 },
 "nbformat": 4,
 "nbformat_minor": 5
}
